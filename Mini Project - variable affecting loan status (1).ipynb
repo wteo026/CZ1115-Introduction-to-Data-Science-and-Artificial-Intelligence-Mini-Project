{
 "cells": [
  {
   "cell_type": "code",
   "execution_count": 1,
   "id": "0c7c8b77",
   "metadata": {},
   "outputs": [],
   "source": [
    "# Basic Libraries\n",
    "import numpy as np\n",
    "import pandas as pd\n",
    "import seaborn as sb\n",
    "import matplotlib.pyplot as plt # we only need pyplot\n",
    "sb.set() # set the default Seaborn style for graphics"
   ]
  },
  {
   "cell_type": "markdown",
   "id": "c9206451",
   "metadata": {},
   "source": [
    "## Import the Dataset\n",
    "Dataset on loan outcomes"
   ]
  },
  {
   "cell_type": "code",
   "execution_count": 2,
   "id": "34fbac77",
   "metadata": {},
   "outputs": [
    {
     "data": {
      "text/html": [
       "<div>\n",
       "<style scoped>\n",
       "    .dataframe tbody tr th:only-of-type {\n",
       "        vertical-align: middle;\n",
       "    }\n",
       "\n",
       "    .dataframe tbody tr th {\n",
       "        vertical-align: top;\n",
       "    }\n",
       "\n",
       "    .dataframe thead th {\n",
       "        text-align: right;\n",
       "    }\n",
       "</style>\n",
       "<table border=\"1\" class=\"dataframe\">\n",
       "  <thead>\n",
       "    <tr style=\"text-align: right;\">\n",
       "      <th></th>\n",
       "      <th>Loan_ID</th>\n",
       "      <th>Gender</th>\n",
       "      <th>Married</th>\n",
       "      <th>Dependents</th>\n",
       "      <th>Education</th>\n",
       "      <th>Self_Employed</th>\n",
       "      <th>ApplicantIncome</th>\n",
       "      <th>CoapplicantIncome</th>\n",
       "      <th>LoanAmount</th>\n",
       "      <th>Loan_Amount_Term</th>\n",
       "      <th>Credit_History</th>\n",
       "      <th>Property_Area</th>\n",
       "      <th>Loan_Status</th>\n",
       "    </tr>\n",
       "  </thead>\n",
       "  <tbody>\n",
       "    <tr>\n",
       "      <th>0</th>\n",
       "      <td>LP001003</td>\n",
       "      <td>Male</td>\n",
       "      <td>Yes</td>\n",
       "      <td>1</td>\n",
       "      <td>Graduate</td>\n",
       "      <td>No</td>\n",
       "      <td>4583</td>\n",
       "      <td>1508.0</td>\n",
       "      <td>128.0</td>\n",
       "      <td>360.0</td>\n",
       "      <td>1.0</td>\n",
       "      <td>Rural</td>\n",
       "      <td>N</td>\n",
       "    </tr>\n",
       "    <tr>\n",
       "      <th>1</th>\n",
       "      <td>LP001005</td>\n",
       "      <td>Male</td>\n",
       "      <td>Yes</td>\n",
       "      <td>0</td>\n",
       "      <td>Graduate</td>\n",
       "      <td>Yes</td>\n",
       "      <td>3000</td>\n",
       "      <td>0.0</td>\n",
       "      <td>66.0</td>\n",
       "      <td>360.0</td>\n",
       "      <td>1.0</td>\n",
       "      <td>Urban</td>\n",
       "      <td>Y</td>\n",
       "    </tr>\n",
       "    <tr>\n",
       "      <th>2</th>\n",
       "      <td>LP001006</td>\n",
       "      <td>Male</td>\n",
       "      <td>Yes</td>\n",
       "      <td>0</td>\n",
       "      <td>Not Graduate</td>\n",
       "      <td>No</td>\n",
       "      <td>2583</td>\n",
       "      <td>2358.0</td>\n",
       "      <td>120.0</td>\n",
       "      <td>360.0</td>\n",
       "      <td>1.0</td>\n",
       "      <td>Urban</td>\n",
       "      <td>Y</td>\n",
       "    </tr>\n",
       "    <tr>\n",
       "      <th>3</th>\n",
       "      <td>LP001008</td>\n",
       "      <td>Male</td>\n",
       "      <td>No</td>\n",
       "      <td>0</td>\n",
       "      <td>Graduate</td>\n",
       "      <td>No</td>\n",
       "      <td>6000</td>\n",
       "      <td>0.0</td>\n",
       "      <td>141.0</td>\n",
       "      <td>360.0</td>\n",
       "      <td>1.0</td>\n",
       "      <td>Urban</td>\n",
       "      <td>Y</td>\n",
       "    </tr>\n",
       "    <tr>\n",
       "      <th>4</th>\n",
       "      <td>LP001013</td>\n",
       "      <td>Male</td>\n",
       "      <td>Yes</td>\n",
       "      <td>0</td>\n",
       "      <td>Not Graduate</td>\n",
       "      <td>No</td>\n",
       "      <td>2333</td>\n",
       "      <td>1516.0</td>\n",
       "      <td>95.0</td>\n",
       "      <td>360.0</td>\n",
       "      <td>1.0</td>\n",
       "      <td>Urban</td>\n",
       "      <td>Y</td>\n",
       "    </tr>\n",
       "  </tbody>\n",
       "</table>\n",
       "</div>"
      ],
      "text/plain": [
       "    Loan_ID Gender Married Dependents     Education Self_Employed  \\\n",
       "0  LP001003   Male     Yes          1      Graduate            No   \n",
       "1  LP001005   Male     Yes          0      Graduate           Yes   \n",
       "2  LP001006   Male     Yes          0  Not Graduate            No   \n",
       "3  LP001008   Male      No          0      Graduate            No   \n",
       "4  LP001013   Male     Yes          0  Not Graduate            No   \n",
       "\n",
       "   ApplicantIncome  CoapplicantIncome  LoanAmount  Loan_Amount_Term  \\\n",
       "0             4583             1508.0       128.0             360.0   \n",
       "1             3000                0.0        66.0             360.0   \n",
       "2             2583             2358.0       120.0             360.0   \n",
       "3             6000                0.0       141.0             360.0   \n",
       "4             2333             1516.0        95.0             360.0   \n",
       "\n",
       "   Credit_History Property_Area Loan_Status  \n",
       "0             1.0         Rural           N  \n",
       "1             1.0         Urban           Y  \n",
       "2             1.0         Urban           Y  \n",
       "3             1.0         Urban           Y  \n",
       "4             1.0         Urban           Y  "
      ]
     },
     "execution_count": 2,
     "metadata": {},
     "output_type": "execute_result"
    }
   ],
   "source": [
    "loandata = pd.read_csv('loan_data.csv')\n",
    "loandata.head()"
   ]
  },
  {
   "cell_type": "code",
   "execution_count": 3,
   "id": "ce2a4500",
   "metadata": {},
   "outputs": [
    {
     "name": "stdout",
     "output_type": "stream",
     "text": [
      "<class 'pandas.core.frame.DataFrame'>\n",
      "RangeIndex: 381 entries, 0 to 380\n",
      "Data columns (total 13 columns):\n",
      " #   Column             Non-Null Count  Dtype  \n",
      "---  ------             --------------  -----  \n",
      " 0   Loan_ID            381 non-null    object \n",
      " 1   Gender             376 non-null    object \n",
      " 2   Married            381 non-null    object \n",
      " 3   Dependents         373 non-null    object \n",
      " 4   Education          381 non-null    object \n",
      " 5   Self_Employed      360 non-null    object \n",
      " 6   ApplicantIncome    381 non-null    int64  \n",
      " 7   CoapplicantIncome  381 non-null    float64\n",
      " 8   LoanAmount         381 non-null    float64\n",
      " 9   Loan_Amount_Term   370 non-null    float64\n",
      " 10  Credit_History     351 non-null    float64\n",
      " 11  Property_Area      381 non-null    object \n",
      " 12  Loan_Status        381 non-null    object \n",
      "dtypes: float64(4), int64(1), object(8)\n",
      "memory usage: 38.8+ KB\n"
     ]
    }
   ],
   "source": [
    "loandata.info()"
   ]
  },
  {
   "cell_type": "markdown",
   "id": "16131bdb",
   "metadata": {},
   "source": [
    "- There are 12 variables and 381 rows in the dataset\n",
    "- The response variable is Loan_Status, while the remaining 10 variables are most likely predictors (excluding Loan_ID).\n",
    "- The are 5 variables identified as int64 and float64. Out of these 5, credit_history is not a numerical data. It should be categorical as it uses 1 or 0 to indicate whether the credit history of the applicants meets requirement. \n",
    "- The remaining 7 variables are identified as object and they are most likely categorical. \n",
    "- There are several variables that seem to have missing value. (E.g. Loan_Amount_Term and Gender is left blank for some rows)"
   ]
  },
  {
   "cell_type": "markdown",
   "id": "8195aaa2",
   "metadata": {},
   "source": [
    "# Cleaning the Dataset\n",
    "These are the following items that will be done to clean the dataset:\n",
    "1. Change the Dtype for credit_history to object \n",
    "2. Convert 1 and 0 in credit history to Y or N for easy readability\n",
    "3. Change the Dtype of ApplicantIncome, CoapplicantIncome, LoanAmount, Loan_Amount_Term to float64 as decimals might occur during any calculations.\n",
    "4. Remove NA values from the dataset "
   ]
  },
  {
   "cell_type": "markdown",
   "id": "a079787b",
   "metadata": {},
   "source": [
    "## Changing Dtype for Credit_history, ApplicantIncome, CoapplicantIncome, LoanAmount, Loan_Amount_Term"
   ]
  },
  {
   "cell_type": "code",
   "execution_count": 4,
   "id": "3d06093a",
   "metadata": {},
   "outputs": [],
   "source": [
    "loandata['Credit_History'] = loandata['Credit_History'].astype('object')"
   ]
  },
  {
   "cell_type": "code",
   "execution_count": 5,
   "id": "f781e024",
   "metadata": {},
   "outputs": [],
   "source": [
    "columns_to_convert = ['ApplicantIncome', 'CoapplicantIncome', 'LoanAmount', 'Loan_Amount_Term']\n",
    "\n",
    "# Change data types of multiple columns\n",
    "loandata[columns_to_convert] = loandata[columns_to_convert].astype('float64')"
   ]
  },
  {
   "cell_type": "code",
   "execution_count": 6,
   "id": "d9ace8d3",
   "metadata": {},
   "outputs": [
    {
     "name": "stdout",
     "output_type": "stream",
     "text": [
      "<class 'pandas.core.frame.DataFrame'>\n",
      "RangeIndex: 381 entries, 0 to 380\n",
      "Data columns (total 13 columns):\n",
      " #   Column             Non-Null Count  Dtype  \n",
      "---  ------             --------------  -----  \n",
      " 0   Loan_ID            381 non-null    object \n",
      " 1   Gender             376 non-null    object \n",
      " 2   Married            381 non-null    object \n",
      " 3   Dependents         373 non-null    object \n",
      " 4   Education          381 non-null    object \n",
      " 5   Self_Employed      360 non-null    object \n",
      " 6   ApplicantIncome    381 non-null    float64\n",
      " 7   CoapplicantIncome  381 non-null    float64\n",
      " 8   LoanAmount         381 non-null    float64\n",
      " 9   Loan_Amount_Term   370 non-null    float64\n",
      " 10  Credit_History     351 non-null    object \n",
      " 11  Property_Area      381 non-null    object \n",
      " 12  Loan_Status        381 non-null    object \n",
      "dtypes: float64(4), object(9)\n",
      "memory usage: 38.8+ KB\n"
     ]
    }
   ],
   "source": [
    "loandata.info()"
   ]
  },
  {
   "cell_type": "markdown",
   "id": "1bfc3fff",
   "metadata": {},
   "source": [
    "## Remove NA Rows"
   ]
  },
  {
   "cell_type": "code",
   "execution_count": 7,
   "id": "fafdbe48",
   "metadata": {},
   "outputs": [],
   "source": [
    "loandata = loandata.dropna()"
   ]
  },
  {
   "cell_type": "code",
   "execution_count": 8,
   "id": "22e0bb9c",
   "metadata": {},
   "outputs": [
    {
     "name": "stdout",
     "output_type": "stream",
     "text": [
      "Empty DataFrame\n",
      "Columns: [Loan_ID, Gender, Married, Dependents, Education, Self_Employed, ApplicantIncome, CoapplicantIncome, LoanAmount, Loan_Amount_Term, Credit_History, Property_Area, Loan_Status]\n",
      "Index: []\n"
     ]
    }
   ],
   "source": [
    "desired_loan_ID = 'LP001041'  # Replace 'XYZ123' with the loan ID you want to search for\n",
    "\n",
    "# Select rows with the specified loan ID\n",
    "desired_row = loandata.loc[loandata['Loan_ID'] == desired_loan_ID]\n",
    "\n",
    "print(desired_row)"
   ]
  },
  {
   "cell_type": "markdown",
   "id": "e894f6f0",
   "metadata": {},
   "source": [
    "Loan_ID LP001041 have a NA value for \"Self_Employed\" and \"Loan_Amount_Term\". The above confirms that the NA rows have been removed successfully. We can then continue cleaning the dataset."
   ]
  },
  {
   "cell_type": "markdown",
   "id": "d41f5ef6",
   "metadata": {},
   "source": [
    "## Convert 1 and 0 in credit history to Y or N for easy readability"
   ]
  },
  {
   "cell_type": "code",
   "execution_count": 9,
   "id": "cce83159",
   "metadata": {},
   "outputs": [],
   "source": [
    "loandata.loc[loandata['Credit_History'] == 1.0, 'Credit_History'] = 'Y'\n",
    "loandata.loc[loandata['Credit_History'] == 0.0, 'Credit_History'] = 'N'"
   ]
  },
  {
   "cell_type": "code",
   "execution_count": 10,
   "id": "6d8f55a1",
   "metadata": {},
   "outputs": [
    {
     "data": {
      "text/html": [
       "<div>\n",
       "<style scoped>\n",
       "    .dataframe tbody tr th:only-of-type {\n",
       "        vertical-align: middle;\n",
       "    }\n",
       "\n",
       "    .dataframe tbody tr th {\n",
       "        vertical-align: top;\n",
       "    }\n",
       "\n",
       "    .dataframe thead th {\n",
       "        text-align: right;\n",
       "    }\n",
       "</style>\n",
       "<table border=\"1\" class=\"dataframe\">\n",
       "  <thead>\n",
       "    <tr style=\"text-align: right;\">\n",
       "      <th></th>\n",
       "      <th>Loan_ID</th>\n",
       "      <th>Gender</th>\n",
       "      <th>Married</th>\n",
       "      <th>Dependents</th>\n",
       "      <th>Education</th>\n",
       "      <th>Self_Employed</th>\n",
       "      <th>ApplicantIncome</th>\n",
       "      <th>CoapplicantIncome</th>\n",
       "      <th>LoanAmount</th>\n",
       "      <th>Loan_Amount_Term</th>\n",
       "      <th>Credit_History</th>\n",
       "      <th>Property_Area</th>\n",
       "      <th>Loan_Status</th>\n",
       "    </tr>\n",
       "  </thead>\n",
       "  <tbody>\n",
       "    <tr>\n",
       "      <th>0</th>\n",
       "      <td>LP001003</td>\n",
       "      <td>Male</td>\n",
       "      <td>Yes</td>\n",
       "      <td>1</td>\n",
       "      <td>Graduate</td>\n",
       "      <td>No</td>\n",
       "      <td>4583.0</td>\n",
       "      <td>1508.0</td>\n",
       "      <td>128.0</td>\n",
       "      <td>360.0</td>\n",
       "      <td>Y</td>\n",
       "      <td>Rural</td>\n",
       "      <td>N</td>\n",
       "    </tr>\n",
       "    <tr>\n",
       "      <th>1</th>\n",
       "      <td>LP001005</td>\n",
       "      <td>Male</td>\n",
       "      <td>Yes</td>\n",
       "      <td>0</td>\n",
       "      <td>Graduate</td>\n",
       "      <td>Yes</td>\n",
       "      <td>3000.0</td>\n",
       "      <td>0.0</td>\n",
       "      <td>66.0</td>\n",
       "      <td>360.0</td>\n",
       "      <td>Y</td>\n",
       "      <td>Urban</td>\n",
       "      <td>Y</td>\n",
       "    </tr>\n",
       "    <tr>\n",
       "      <th>2</th>\n",
       "      <td>LP001006</td>\n",
       "      <td>Male</td>\n",
       "      <td>Yes</td>\n",
       "      <td>0</td>\n",
       "      <td>Not Graduate</td>\n",
       "      <td>No</td>\n",
       "      <td>2583.0</td>\n",
       "      <td>2358.0</td>\n",
       "      <td>120.0</td>\n",
       "      <td>360.0</td>\n",
       "      <td>Y</td>\n",
       "      <td>Urban</td>\n",
       "      <td>Y</td>\n",
       "    </tr>\n",
       "    <tr>\n",
       "      <th>3</th>\n",
       "      <td>LP001008</td>\n",
       "      <td>Male</td>\n",
       "      <td>No</td>\n",
       "      <td>0</td>\n",
       "      <td>Graduate</td>\n",
       "      <td>No</td>\n",
       "      <td>6000.0</td>\n",
       "      <td>0.0</td>\n",
       "      <td>141.0</td>\n",
       "      <td>360.0</td>\n",
       "      <td>Y</td>\n",
       "      <td>Urban</td>\n",
       "      <td>Y</td>\n",
       "    </tr>\n",
       "    <tr>\n",
       "      <th>4</th>\n",
       "      <td>LP001013</td>\n",
       "      <td>Male</td>\n",
       "      <td>Yes</td>\n",
       "      <td>0</td>\n",
       "      <td>Not Graduate</td>\n",
       "      <td>No</td>\n",
       "      <td>2333.0</td>\n",
       "      <td>1516.0</td>\n",
       "      <td>95.0</td>\n",
       "      <td>360.0</td>\n",
       "      <td>Y</td>\n",
       "      <td>Urban</td>\n",
       "      <td>Y</td>\n",
       "    </tr>\n",
       "  </tbody>\n",
       "</table>\n",
       "</div>"
      ],
      "text/plain": [
       "    Loan_ID Gender Married Dependents     Education Self_Employed  \\\n",
       "0  LP001003   Male     Yes          1      Graduate            No   \n",
       "1  LP001005   Male     Yes          0      Graduate           Yes   \n",
       "2  LP001006   Male     Yes          0  Not Graduate            No   \n",
       "3  LP001008   Male      No          0      Graduate            No   \n",
       "4  LP001013   Male     Yes          0  Not Graduate            No   \n",
       "\n",
       "   ApplicantIncome  CoapplicantIncome  LoanAmount  Loan_Amount_Term  \\\n",
       "0           4583.0             1508.0       128.0             360.0   \n",
       "1           3000.0                0.0        66.0             360.0   \n",
       "2           2583.0             2358.0       120.0             360.0   \n",
       "3           6000.0                0.0       141.0             360.0   \n",
       "4           2333.0             1516.0        95.0             360.0   \n",
       "\n",
       "  Credit_History Property_Area Loan_Status  \n",
       "0              Y         Rural           N  \n",
       "1              Y         Urban           Y  \n",
       "2              Y         Urban           Y  \n",
       "3              Y         Urban           Y  \n",
       "4              Y         Urban           Y  "
      ]
     },
     "execution_count": 10,
     "metadata": {},
     "output_type": "execute_result"
    }
   ],
   "source": [
    "loandata.head()"
   ]
  },
  {
   "cell_type": "code",
   "execution_count": 11,
   "id": "daaadfc8",
   "metadata": {},
   "outputs": [
    {
     "name": "stdout",
     "output_type": "stream",
     "text": [
      "<class 'pandas.core.frame.DataFrame'>\n",
      "Index: 308 entries, 0 to 380\n",
      "Data columns (total 13 columns):\n",
      " #   Column             Non-Null Count  Dtype  \n",
      "---  ------             --------------  -----  \n",
      " 0   Loan_ID            308 non-null    object \n",
      " 1   Gender             308 non-null    object \n",
      " 2   Married            308 non-null    object \n",
      " 3   Dependents         308 non-null    object \n",
      " 4   Education          308 non-null    object \n",
      " 5   Self_Employed      308 non-null    object \n",
      " 6   ApplicantIncome    308 non-null    float64\n",
      " 7   CoapplicantIncome  308 non-null    float64\n",
      " 8   LoanAmount         308 non-null    float64\n",
      " 9   Loan_Amount_Term   308 non-null    float64\n",
      " 10  Credit_History     308 non-null    object \n",
      " 11  Property_Area      308 non-null    object \n",
      " 12  Loan_Status        308 non-null    object \n",
      "dtypes: float64(4), object(9)\n",
      "memory usage: 33.7+ KB\n"
     ]
    }
   ],
   "source": [
    "loandata.info()"
   ]
  },
  {
   "cell_type": "markdown",
   "id": "a1c1f27d",
   "metadata": {},
   "source": [
    "- There are a total of 308 rows now\n",
    "- All numerical datatypes are in float64 and categorical datatypes are in object"
   ]
  },
  {
   "cell_type": "code",
   "execution_count": 12,
   "id": "26bb978e",
   "metadata": {},
   "outputs": [],
   "source": [
    "loandata.to_csv('cleaned_loan_data.csv', index=False)"
   ]
  },
  {
   "cell_type": "markdown",
   "id": "27987f24",
   "metadata": {},
   "source": [
    "## Exploratory Data Analysis\n"
   ]
  },
  {
   "cell_type": "code",
   "execution_count": 13,
   "id": "c60cc6f4",
   "metadata": {
    "scrolled": true
   },
   "outputs": [
    {
     "name": "stderr",
     "output_type": "stream",
     "text": [
      "C:\\Users\\wilso\\anaconda3\\Lib\\site-packages\\seaborn\\axisgrid.py:118: UserWarning: The figure layout has changed to tight\n",
      "  self._figure.tight_layout(*args, **kwargs)\n"
     ]
    },
    {
     "data": {
      "text/plain": [
       "<seaborn.axisgrid.FacetGrid at 0x1e1dbe2d410>"
      ]
     },
     "execution_count": 13,
     "metadata": {},
     "output_type": "execute_result"
    },
    {
     "data": {
      "image/png": "[encoded data removed]",
      "text/plain": [
       "<Figure size 500x500 with 1 Axes>"
      ]
     },
     "metadata": {},
     "output_type": "display_data"
    }
   ],
   "source": [
    "sb.catplot(y = 'Loan_Status', data = loandata, kind = \"count\")"
   ]
  },
  {
   "cell_type": "code",
   "execution_count": 14,
   "id": "ac6ff335",
   "metadata": {},
   "outputs": [
    {
     "data": {
      "text/html": [
       "<div>\n",
       "<style scoped>\n",
       "    .dataframe tbody tr th:only-of-type {\n",
       "        vertical-align: middle;\n",
       "    }\n",
       "\n",
       "    .dataframe tbody tr th {\n",
       "        vertical-align: top;\n",
       "    }\n",
       "\n",
       "    .dataframe thead th {\n",
       "        text-align: right;\n",
       "    }\n",
       "</style>\n",
       "<table border=\"1\" class=\"dataframe\">\n",
       "  <thead>\n",
       "    <tr style=\"text-align: right;\">\n",
       "      <th></th>\n",
       "      <th>ApplicantIncome</th>\n",
       "      <th>CoapplicantIncome</th>\n",
       "      <th>LoanAmount</th>\n",
       "      <th>Loan_Amount_Term</th>\n",
       "    </tr>\n",
       "  </thead>\n",
       "  <tbody>\n",
       "    <tr>\n",
       "      <th>count</th>\n",
       "      <td>308.000000</td>\n",
       "      <td>308.000000</td>\n",
       "      <td>308.000000</td>\n",
       "      <td>308.000000</td>\n",
       "    </tr>\n",
       "    <tr>\n",
       "      <th>mean</th>\n",
       "      <td>3599.126623</td>\n",
       "      <td>1278.434805</td>\n",
       "      <td>104.623377</td>\n",
       "      <td>341.181818</td>\n",
       "    </tr>\n",
       "    <tr>\n",
       "      <th>std</th>\n",
       "      <td>1462.359612</td>\n",
       "      <td>2520.961308</td>\n",
       "      <td>29.382256</td>\n",
       "      <td>68.246006</td>\n",
       "    </tr>\n",
       "    <tr>\n",
       "      <th>min</th>\n",
       "      <td>150.000000</td>\n",
       "      <td>0.000000</td>\n",
       "      <td>9.000000</td>\n",
       "      <td>36.000000</td>\n",
       "    </tr>\n",
       "    <tr>\n",
       "      <th>25%</th>\n",
       "      <td>2568.750000</td>\n",
       "      <td>0.000000</td>\n",
       "      <td>89.750000</td>\n",
       "      <td>360.000000</td>\n",
       "    </tr>\n",
       "    <tr>\n",
       "      <th>50%</th>\n",
       "      <td>3329.500000</td>\n",
       "      <td>871.500000</td>\n",
       "      <td>110.000000</td>\n",
       "      <td>360.000000</td>\n",
       "    </tr>\n",
       "    <tr>\n",
       "      <th>75%</th>\n",
       "      <td>4291.000000</td>\n",
       "      <td>1953.500000</td>\n",
       "      <td>128.000000</td>\n",
       "      <td>360.000000</td>\n",
       "    </tr>\n",
       "    <tr>\n",
       "      <th>max</th>\n",
       "      <td>9703.000000</td>\n",
       "      <td>33837.000000</td>\n",
       "      <td>150.000000</td>\n",
       "      <td>480.000000</td>\n",
       "    </tr>\n",
       "  </tbody>\n",
       "</table>\n",
       "</div>"
      ],
      "text/plain": [
       "       ApplicantIncome  CoapplicantIncome  LoanAmount  Loan_Amount_Term\n",
       "count       308.000000         308.000000  308.000000        308.000000\n",
       "mean       3599.126623        1278.434805  104.623377        341.181818\n",
       "std        1462.359612        2520.961308   29.382256         68.246006\n",
       "min         150.000000           0.000000    9.000000         36.000000\n",
       "25%        2568.750000           0.000000   89.750000        360.000000\n",
       "50%        3329.500000         871.500000  110.000000        360.000000\n",
       "75%        4291.000000        1953.500000  128.000000        360.000000\n",
       "max        9703.000000       33837.000000  150.000000        480.000000"
      ]
     },
     "execution_count": 14,
     "metadata": {},
     "output_type": "execute_result"
    }
   ],
   "source": [
    "# Numeric Predictors\n",
    "loandata[['ApplicantIncome','CoapplicantIncome','LoanAmount','Loan_Amount_Term']].describe()"
   ]
  },
  {
   "cell_type": "code",
   "execution_count": 15,
   "id": "dfc4a71b",
   "metadata": {},
   "outputs": [
    {
     "data": {
      "text/html": [
       "<div>\n",
       "<style scoped>\n",
       "    .dataframe tbody tr th:only-of-type {\n",
       "        vertical-align: middle;\n",
       "    }\n",
       "\n",
       "    .dataframe tbody tr th {\n",
       "        vertical-align: top;\n",
       "    }\n",
       "\n",
       "    .dataframe thead th {\n",
       "        text-align: right;\n",
       "    }\n",
       "</style>\n",
       "<table border=\"1\" class=\"dataframe\">\n",
       "  <thead>\n",
       "    <tr style=\"text-align: right;\">\n",
       "      <th></th>\n",
       "      <th>Gender</th>\n",
       "      <th>Married</th>\n",
       "      <th>Dependents</th>\n",
       "      <th>Education</th>\n",
       "      <th>Self_Employed</th>\n",
       "      <th>Credit_History</th>\n",
       "      <th>Property_Area</th>\n",
       "      <th>Loan_Status</th>\n",
       "    </tr>\n",
       "  </thead>\n",
       "  <tbody>\n",
       "    <tr>\n",
       "      <th>count</th>\n",
       "      <td>308</td>\n",
       "      <td>308</td>\n",
       "      <td>308</td>\n",
       "      <td>308</td>\n",
       "      <td>308</td>\n",
       "      <td>308</td>\n",
       "      <td>308</td>\n",
       "      <td>308</td>\n",
       "    </tr>\n",
       "    <tr>\n",
       "      <th>unique</th>\n",
       "      <td>2</td>\n",
       "      <td>2</td>\n",
       "      <td>4</td>\n",
       "      <td>2</td>\n",
       "      <td>2</td>\n",
       "      <td>2</td>\n",
       "      <td>3</td>\n",
       "      <td>2</td>\n",
       "    </tr>\n",
       "    <tr>\n",
       "      <th>top</th>\n",
       "      <td>Male</td>\n",
       "      <td>Yes</td>\n",
       "      <td>0</td>\n",
       "      <td>Graduate</td>\n",
       "      <td>No</td>\n",
       "      <td>Y</td>\n",
       "      <td>Semiurban</td>\n",
       "      <td>Y</td>\n",
       "    </tr>\n",
       "    <tr>\n",
       "      <th>freq</th>\n",
       "      <td>245</td>\n",
       "      <td>185</td>\n",
       "      <td>194</td>\n",
       "      <td>229</td>\n",
       "      <td>280</td>\n",
       "      <td>263</td>\n",
       "      <td>123</td>\n",
       "      <td>219</td>\n",
       "    </tr>\n",
       "  </tbody>\n",
       "</table>\n",
       "</div>"
      ],
      "text/plain": [
       "       Gender Married Dependents Education Self_Employed Credit_History  \\\n",
       "count     308     308        308       308           308            308   \n",
       "unique      2       2          4         2             2              2   \n",
       "top      Male     Yes          0  Graduate            No              Y   \n",
       "freq      245     185        194       229           280            263   \n",
       "\n",
       "       Property_Area Loan_Status  \n",
       "count            308         308  \n",
       "unique             3           2  \n",
       "top        Semiurban           Y  \n",
       "freq             123         219  "
      ]
     },
     "execution_count": 15,
     "metadata": {},
     "output_type": "execute_result"
    }
   ],
   "source": [
    "# Categorical Predictors\n",
    "loandata[['Gender','Married','Dependents','Education','Self_Employed','Credit_History','Property_Area','Loan_Status']].describe()"
   ]
  },
  {
   "cell_type": "markdown",
   "id": "26bc2443",
   "metadata": {},
   "source": [
    "### Note\n",
    "1. ApplicantIncome and Coapplicantincome is based on income per month\n",
    "2. LoanAmount is in thousands. E.g 128 represents loan amount if 128000. \n",
    "3. Loan_Amount_Term is in months \n"
   ]
  },
  {
   "cell_type": "markdown",
   "id": "6fc129fa",
   "metadata": {},
   "source": [
    "## Predictors corresponding to the Credit"
   ]
  },
  {
   "cell_type": "code",
   "execution_count": 16,
   "id": "cc7547e5",
   "metadata": {},
   "outputs": [
    {
     "data": {
      "text/plain": [
       "<Axes: xlabel='LoanAmount', ylabel='Count'>"
      ]
     },
     "execution_count": 16,
     "metadata": {},
     "output_type": "execute_result"
    },
    {
     "data": {
      "image/png": "[encoded data removed]",
      "text/plain": [
       "<Figure size 1800x400 with 2 Axes>"
      ]
     },
     "metadata": {},
     "output_type": "display_data"
    }
   ],
   "source": [
    "# Loan Amount\n",
    "f, axes = plt.subplots(1, 2, figsize=(18, 4))\n",
    "sb.boxplot(data = loandata['LoanAmount'], orient = \"h\", ax = axes[0])\n",
    "sb.histplot(data = loandata['LoanAmount'], ax = axes[1])"
   ]
  },
  {
   "cell_type": "code",
   "execution_count": 17,
   "id": "cbf3548d",
   "metadata": {},
   "outputs": [
    {
     "data": {
      "text/plain": [
       "<bound method NDFrame.describe of 0      128.0\n",
       "1       66.0\n",
       "2      120.0\n",
       "3      141.0\n",
       "4       95.0\n",
       "       ...  \n",
       "376    128.0\n",
       "377    108.0\n",
       "378     71.0\n",
       "379     40.0\n",
       "380    133.0\n",
       "Name: LoanAmount, Length: 308, dtype: float64>"
      ]
     },
     "execution_count": 17,
     "metadata": {},
     "output_type": "execute_result"
    }
   ],
   "source": [
    "loandata['LoanAmount'].describe"
   ]
  },
  {
   "cell_type": "code",
   "execution_count": 18,
   "id": "3d38bc92",
   "metadata": {},
   "outputs": [
    {
     "data": {
      "image/png": "[encoded data removed]",
      "text/plain": [
       "<Figure size 1800x400 with 2 Axes>"
      ]
     },
     "metadata": {},
     "output_type": "display_data"
    }
   ],
   "source": [
    "# Duration of the Loan\n",
    "f, axes = plt.subplots(1, 2, figsize=(18, 4))\n",
    "sb.boxplot(data = loandata['Loan_Amount_Term'], orient = \"h\", ax = axes[0])\n",
    "sb.histplot(data = loandata['Loan_Amount_Term'], ax = axes[1])\n",
    "\n",
    "sb.histplot(data=loandata, x='Loan_Amount_Term', kde=True)\n",
    "plt.title('Histogram of Loan Amount Term')\n",
    "plt.xlabel('Loan Amount Term')\n",
    "plt.ylabel('Frequency')\n",
    "plt.show()"
   ]
  },
  {
   "cell_type": "markdown",
   "id": "b9f491ae",
   "metadata": {},
   "source": [
    "## Predictors corresponding to the Customer\n",
    "We will use the following:\n",
    "1. ApplicantIncome + CoapplicantIncome\n",
    "2. Credit History\n",
    "3. Married\n",
    "4. Dependents\n",
    "5. Education"
   ]
  },
  {
   "cell_type": "code",
   "execution_count": 19,
   "id": "5a412b31",
   "metadata": {},
   "outputs": [],
   "source": [
    "# Adding applicant income with coapplicant income\n",
    "loandata.loc[:, 'TotalIncome'] = loandata['ApplicantIncome'] + loandata['CoapplicantIncome']"
   ]
  },
  {
   "cell_type": "code",
   "execution_count": 20,
   "id": "ff15dbd3",
   "metadata": {},
   "outputs": [
    {
     "data": {
      "text/html": [
       "<div>\n",
       "<style scoped>\n",
       "    .dataframe tbody tr th:only-of-type {\n",
       "        vertical-align: middle;\n",
       "    }\n",
       "\n",
       "    .dataframe tbody tr th {\n",
       "        vertical-align: top;\n",
       "    }\n",
       "\n",
       "    .dataframe thead th {\n",
       "        text-align: right;\n",
       "    }\n",
       "</style>\n",
       "<table border=\"1\" class=\"dataframe\">\n",
       "  <thead>\n",
       "    <tr style=\"text-align: right;\">\n",
       "      <th></th>\n",
       "      <th>Loan_ID</th>\n",
       "      <th>Gender</th>\n",
       "      <th>Married</th>\n",
       "      <th>Dependents</th>\n",
       "      <th>Education</th>\n",
       "      <th>Self_Employed</th>\n",
       "      <th>ApplicantIncome</th>\n",
       "      <th>CoapplicantIncome</th>\n",
       "      <th>LoanAmount</th>\n",
       "      <th>Loan_Amount_Term</th>\n",
       "      <th>Credit_History</th>\n",
       "      <th>Property_Area</th>\n",
       "      <th>Loan_Status</th>\n",
       "      <th>TotalIncome</th>\n",
       "    </tr>\n",
       "  </thead>\n",
       "  <tbody>\n",
       "    <tr>\n",
       "      <th>0</th>\n",
       "      <td>LP001003</td>\n",
       "      <td>Male</td>\n",
       "      <td>Yes</td>\n",
       "      <td>1</td>\n",
       "      <td>Graduate</td>\n",
       "      <td>No</td>\n",
       "      <td>4583.0</td>\n",
       "      <td>1508.0</td>\n",
       "      <td>128.0</td>\n",
       "      <td>360.0</td>\n",
       "      <td>Y</td>\n",
       "      <td>Rural</td>\n",
       "      <td>N</td>\n",
       "      <td>6091.0</td>\n",
       "    </tr>\n",
       "    <tr>\n",
       "      <th>1</th>\n",
       "      <td>LP001005</td>\n",
       "      <td>Male</td>\n",
       "      <td>Yes</td>\n",
       "      <td>0</td>\n",
       "      <td>Graduate</td>\n",
       "      <td>Yes</td>\n",
       "      <td>3000.0</td>\n",
       "      <td>0.0</td>\n",
       "      <td>66.0</td>\n",
       "      <td>360.0</td>\n",
       "      <td>Y</td>\n",
       "      <td>Urban</td>\n",
       "      <td>Y</td>\n",
       "      <td>3000.0</td>\n",
       "    </tr>\n",
       "    <tr>\n",
       "      <th>2</th>\n",
       "      <td>LP001006</td>\n",
       "      <td>Male</td>\n",
       "      <td>Yes</td>\n",
       "      <td>0</td>\n",
       "      <td>Not Graduate</td>\n",
       "      <td>No</td>\n",
       "      <td>2583.0</td>\n",
       "      <td>2358.0</td>\n",
       "      <td>120.0</td>\n",
       "      <td>360.0</td>\n",
       "      <td>Y</td>\n",
       "      <td>Urban</td>\n",
       "      <td>Y</td>\n",
       "      <td>4941.0</td>\n",
       "    </tr>\n",
       "    <tr>\n",
       "      <th>3</th>\n",
       "      <td>LP001008</td>\n",
       "      <td>Male</td>\n",
       "      <td>No</td>\n",
       "      <td>0</td>\n",
       "      <td>Graduate</td>\n",
       "      <td>No</td>\n",
       "      <td>6000.0</td>\n",
       "      <td>0.0</td>\n",
       "      <td>141.0</td>\n",
       "      <td>360.0</td>\n",
       "      <td>Y</td>\n",
       "      <td>Urban</td>\n",
       "      <td>Y</td>\n",
       "      <td>6000.0</td>\n",
       "    </tr>\n",
       "    <tr>\n",
       "      <th>4</th>\n",
       "      <td>LP001013</td>\n",
       "      <td>Male</td>\n",
       "      <td>Yes</td>\n",
       "      <td>0</td>\n",
       "      <td>Not Graduate</td>\n",
       "      <td>No</td>\n",
       "      <td>2333.0</td>\n",
       "      <td>1516.0</td>\n",
       "      <td>95.0</td>\n",
       "      <td>360.0</td>\n",
       "      <td>Y</td>\n",
       "      <td>Urban</td>\n",
       "      <td>Y</td>\n",
       "      <td>3849.0</td>\n",
       "    </tr>\n",
       "  </tbody>\n",
       "</table>\n",
       "</div>"
      ],
      "text/plain": [
       "    Loan_ID Gender Married Dependents     Education Self_Employed  \\\n",
       "0  LP001003   Male     Yes          1      Graduate            No   \n",
       "1  LP001005   Male     Yes          0      Graduate           Yes   \n",
       "2  LP001006   Male     Yes          0  Not Graduate            No   \n",
       "3  LP001008   Male      No          0      Graduate            No   \n",
       "4  LP001013   Male     Yes          0  Not Graduate            No   \n",
       "\n",
       "   ApplicantIncome  CoapplicantIncome  LoanAmount  Loan_Amount_Term  \\\n",
       "0           4583.0             1508.0       128.0             360.0   \n",
       "1           3000.0                0.0        66.0             360.0   \n",
       "2           2583.0             2358.0       120.0             360.0   \n",
       "3           6000.0                0.0       141.0             360.0   \n",
       "4           2333.0             1516.0        95.0             360.0   \n",
       "\n",
       "  Credit_History Property_Area Loan_Status  TotalIncome  \n",
       "0              Y         Rural           N       6091.0  \n",
       "1              Y         Urban           Y       3000.0  \n",
       "2              Y         Urban           Y       4941.0  \n",
       "3              Y         Urban           Y       6000.0  \n",
       "4              Y         Urban           Y       3849.0  "
      ]
     },
     "execution_count": 20,
     "metadata": {},
     "output_type": "execute_result"
    }
   ],
   "source": [
    "loandata.head()"
   ]
  },
  {
   "cell_type": "code",
   "execution_count": 21,
   "id": "66c669e3",
   "metadata": {},
   "outputs": [
    {
     "data": {
      "text/html": [
       "<div>\n",
       "<style scoped>\n",
       "    .dataframe tbody tr th:only-of-type {\n",
       "        vertical-align: middle;\n",
       "    }\n",
       "\n",
       "    .dataframe tbody tr th {\n",
       "        vertical-align: top;\n",
       "    }\n",
       "\n",
       "    .dataframe thead th {\n",
       "        text-align: right;\n",
       "    }\n",
       "</style>\n",
       "<table border=\"1\" class=\"dataframe\">\n",
       "  <thead>\n",
       "    <tr style=\"text-align: right;\">\n",
       "      <th></th>\n",
       "      <th>Loan_ID</th>\n",
       "      <th>Gender</th>\n",
       "      <th>Married</th>\n",
       "      <th>Dependents</th>\n",
       "      <th>Education</th>\n",
       "      <th>Self_Employed</th>\n",
       "      <th>ApplicantIncome</th>\n",
       "      <th>CoapplicantIncome</th>\n",
       "      <th>LoanAmount</th>\n",
       "      <th>Loan_Amount_Term</th>\n",
       "      <th>Credit_History</th>\n",
       "      <th>Property_Area</th>\n",
       "      <th>Loan_Status</th>\n",
       "      <th>TotalIncome</th>\n",
       "    </tr>\n",
       "  </thead>\n",
       "  <tbody>\n",
       "    <tr>\n",
       "      <th>0</th>\n",
       "      <td>LP001003</td>\n",
       "      <td>Male</td>\n",
       "      <td>Yes</td>\n",
       "      <td>1</td>\n",
       "      <td>Graduate</td>\n",
       "      <td>No</td>\n",
       "      <td>4583.0</td>\n",
       "      <td>1508.0</td>\n",
       "      <td>128.0</td>\n",
       "      <td>360.0</td>\n",
       "      <td>Y</td>\n",
       "      <td>Rural</td>\n",
       "      <td>N</td>\n",
       "      <td>6091.0</td>\n",
       "    </tr>\n",
       "    <tr>\n",
       "      <th>1</th>\n",
       "      <td>LP001005</td>\n",
       "      <td>Male</td>\n",
       "      <td>Yes</td>\n",
       "      <td>0</td>\n",
       "      <td>Graduate</td>\n",
       "      <td>Yes</td>\n",
       "      <td>3000.0</td>\n",
       "      <td>0.0</td>\n",
       "      <td>66.0</td>\n",
       "      <td>360.0</td>\n",
       "      <td>Y</td>\n",
       "      <td>Urban</td>\n",
       "      <td>Y</td>\n",
       "      <td>3000.0</td>\n",
       "    </tr>\n",
       "    <tr>\n",
       "      <th>2</th>\n",
       "      <td>LP001006</td>\n",
       "      <td>Male</td>\n",
       "      <td>Yes</td>\n",
       "      <td>0</td>\n",
       "      <td>Not Graduate</td>\n",
       "      <td>No</td>\n",
       "      <td>2583.0</td>\n",
       "      <td>2358.0</td>\n",
       "      <td>120.0</td>\n",
       "      <td>360.0</td>\n",
       "      <td>Y</td>\n",
       "      <td>Urban</td>\n",
       "      <td>Y</td>\n",
       "      <td>4941.0</td>\n",
       "    </tr>\n",
       "    <tr>\n",
       "      <th>3</th>\n",
       "      <td>LP001008</td>\n",
       "      <td>Male</td>\n",
       "      <td>No</td>\n",
       "      <td>0</td>\n",
       "      <td>Graduate</td>\n",
       "      <td>No</td>\n",
       "      <td>6000.0</td>\n",
       "      <td>0.0</td>\n",
       "      <td>141.0</td>\n",
       "      <td>360.0</td>\n",
       "      <td>Y</td>\n",
       "      <td>Urban</td>\n",
       "      <td>Y</td>\n",
       "      <td>6000.0</td>\n",
       "    </tr>\n",
       "    <tr>\n",
       "      <th>4</th>\n",
       "      <td>LP001013</td>\n",
       "      <td>Male</td>\n",
       "      <td>Yes</td>\n",
       "      <td>0</td>\n",
       "      <td>Not Graduate</td>\n",
       "      <td>No</td>\n",
       "      <td>2333.0</td>\n",
       "      <td>1516.0</td>\n",
       "      <td>95.0</td>\n",
       "      <td>360.0</td>\n",
       "      <td>Y</td>\n",
       "      <td>Urban</td>\n",
       "      <td>Y</td>\n",
       "      <td>3849.0</td>\n",
       "    </tr>\n",
       "  </tbody>\n",
       "</table>\n",
       "</div>"
      ],
      "text/plain": [
       "    Loan_ID Gender Married Dependents     Education Self_Employed  \\\n",
       "0  LP001003   Male     Yes          1      Graduate            No   \n",
       "1  LP001005   Male     Yes          0      Graduate           Yes   \n",
       "2  LP001006   Male     Yes          0  Not Graduate            No   \n",
       "3  LP001008   Male      No          0      Graduate            No   \n",
       "4  LP001013   Male     Yes          0  Not Graduate            No   \n",
       "\n",
       "   ApplicantIncome  CoapplicantIncome  LoanAmount  Loan_Amount_Term  \\\n",
       "0           4583.0             1508.0       128.0             360.0   \n",
       "1           3000.0                0.0        66.0             360.0   \n",
       "2           2583.0             2358.0       120.0             360.0   \n",
       "3           6000.0                0.0       141.0             360.0   \n",
       "4           2333.0             1516.0        95.0             360.0   \n",
       "\n",
       "  Credit_History Property_Area Loan_Status  TotalIncome  \n",
       "0              Y         Rural           N       6091.0  \n",
       "1              Y         Urban           Y       3000.0  \n",
       "2              Y         Urban           Y       4941.0  \n",
       "3              Y         Urban           Y       6000.0  \n",
       "4              Y         Urban           Y       3849.0  "
      ]
     },
     "execution_count": 21,
     "metadata": {},
     "output_type": "execute_result"
    }
   ],
   "source": [
    "loandata.head()"
   ]
  },
  {
   "cell_type": "code",
   "execution_count": 22,
   "id": "b785a569",
   "metadata": {},
   "outputs": [
    {
     "data": {
      "text/plain": [
       "<Axes: xlabel='TotalIncome', ylabel='Count'>"
      ]
     },
     "execution_count": 22,
     "metadata": {},
     "output_type": "execute_result"
    },
    {
     "data": {
      "image/png": "[encoded data removed]",
      "text/plain": [
       "<Figure size 1800x400 with 2 Axes>"
      ]
     },
     "metadata": {},
     "output_type": "display_data"
    }
   ],
   "source": [
    "# Combined income of applicants\n",
    "f, axes = plt.subplots(1, 2, figsize=(18, 4))\n",
    "sb.boxplot(data = loandata['TotalIncome'], orient = \"h\", ax = axes[0])\n",
    "sb.histplot(data = loandata['TotalIncome'], ax = axes[1])"
   ]
  },
  {
   "cell_type": "code",
   "execution_count": 23,
   "id": "cc6b7ef0",
   "metadata": {},
   "outputs": [
    {
     "name": "stderr",
     "output_type": "stream",
     "text": [
      "C:\\Users\\wilso\\anaconda3\\Lib\\site-packages\\seaborn\\axisgrid.py:118: UserWarning: The figure layout has changed to tight\n",
      "  self._figure.tight_layout(*args, **kwargs)\n"
     ]
    },
    {
     "data": {
      "text/plain": [
       "<seaborn.axisgrid.FacetGrid at 0x1e1dc7ad990>"
      ]
     },
     "execution_count": 23,
     "metadata": {},
     "output_type": "execute_result"
    },
    {
     "data": {
      "image/png": "[encoded data removed]",
      "text/plain": [
       "<Figure size 500x500 with 1 Axes>"
      ]
     },
     "metadata": {},
     "output_type": "display_data"
    }
   ],
   "source": [
    "# Credit History of applicants\n",
    "sb.catplot(y = 'Credit_History', data = loandata, kind = \"count\")"
   ]
  },
  {
   "cell_type": "code",
   "execution_count": 24,
   "id": "ef848b0a",
   "metadata": {},
   "outputs": [
    {
     "name": "stderr",
     "output_type": "stream",
     "text": [
      "C:\\Users\\wilso\\anaconda3\\Lib\\site-packages\\seaborn\\axisgrid.py:118: UserWarning: The figure layout has changed to tight\n",
      "  self._figure.tight_layout(*args, **kwargs)\n"
     ]
    },
    {
     "data": {
      "text/plain": [
       "<seaborn.axisgrid.FacetGrid at 0x1e1ddceb790>"
      ]
     },
     "execution_count": 24,
     "metadata": {},
     "output_type": "execute_result"
    },
    {
     "data": {
      "image/png": "[encoded data removed]",
      "text/plain": [
       "<Figure size 500x500 with 1 Axes>"
      ]
     },
     "metadata": {},
     "output_type": "display_data"
    }
   ],
   "source": [
    "# Marital Status of Applicants\n",
    "sb.catplot(y = 'Married', data = loandata, kind = \"count\")"
   ]
  },
  {
   "cell_type": "code",
   "execution_count": 25,
   "id": "643d7cca",
   "metadata": {},
   "outputs": [
    {
     "name": "stderr",
     "output_type": "stream",
     "text": [
      "C:\\Users\\wilso\\anaconda3\\Lib\\site-packages\\seaborn\\axisgrid.py:118: UserWarning: The figure layout has changed to tight\n",
      "  self._figure.tight_layout(*args, **kwargs)\n"
     ]
    },
    {
     "data": {
      "text/plain": [
       "<seaborn.axisgrid.FacetGrid at 0x1e1ddd69450>"
      ]
     },
     "execution_count": 25,
     "metadata": {},
     "output_type": "execute_result"
    },
    {
     "data": {
      "image/png": "[encoded data removed]",
      "text/plain": [
       "<Figure size 500x500 with 1 Axes>"
      ]
     },
     "metadata": {},
     "output_type": "display_data"
    }
   ],
   "source": [
    "# No. of Dependents\n",
    "sb.catplot(y = 'Dependents', data = loandata, kind = \"count\")"
   ]
  },
  {
   "cell_type": "code",
   "execution_count": 26,
   "id": "ec6cf82d",
   "metadata": {},
   "outputs": [
    {
     "name": "stderr",
     "output_type": "stream",
     "text": [
      "C:\\Users\\wilso\\anaconda3\\Lib\\site-packages\\seaborn\\axisgrid.py:118: UserWarning: The figure layout has changed to tight\n",
      "  self._figure.tight_layout(*args, **kwargs)\n"
     ]
    },
    {
     "data": {
      "text/plain": [
       "<seaborn.axisgrid.FacetGrid at 0x1e1dddca310>"
      ]
     },
     "execution_count": 26,
     "metadata": {},
     "output_type": "execute_result"
    },
    {
     "data": {
      "image/png": "[encoded data removed]",
      "text/plain": [
       "<Figure size 500x500 with 1 Axes>"
      ]
     },
     "metadata": {},
     "output_type": "display_data"
    }
   ],
   "source": [
    "# Education level of applicants\n",
    "sb.catplot(y = 'Education', data = loandata, kind = \"count\")"
   ]
  },
  {
   "cell_type": "markdown",
   "id": "3b8533f5",
   "metadata": {},
   "source": [
    "## Relationship with Loan_Status"
   ]
  },
  {
   "cell_type": "markdown",
   "id": "075ad99e",
   "metadata": {},
   "source": [
    "### Total Income vs Loan Status\n",
    "From the plot below, it can be seen that total income of applicants and coapplicants does not have a relationship with loan status."
   ]
  },
  {
   "cell_type": "code",
   "execution_count": 27,
   "id": "d0243caf",
   "metadata": {},
   "outputs": [
    {
     "data": {
      "text/plain": [
       "<Axes: xlabel='TotalIncome', ylabel='Loan_Status'>"
      ]
     },
     "execution_count": 27,
     "metadata": {},
     "output_type": "execute_result"
    },
    {
     "data": {
      "image/png": "[encoded data removed]",
      "text/plain": [
       "<Figure size 1600x800 with 1 Axes>"
      ]
     },
     "metadata": {},
     "output_type": "display_data"
    }
   ],
   "source": [
    "# Rating vs total income\n",
    "f = plt.figure(figsize=(16, 8))\n",
    "sb.stripplot(x = 'TotalIncome', y = 'Loan_Status', data = loandata)\n",
    "\n"
   ]
  },
  {
   "cell_type": "markdown",
   "id": "7c324e28",
   "metadata": {},
   "source": [
    "### Loan Amount vs Loan Status\n",
    "The loan amount also does not seem to have a relationship with loan status."
   ]
  },
  {
   "cell_type": "code",
   "execution_count": 28,
   "id": "d71da9ca",
   "metadata": {},
   "outputs": [
    {
     "data": {
      "text/plain": [
       "<Axes: xlabel='LoanAmount', ylabel='Loan_Status'>"
      ]
     },
     "execution_count": 28,
     "metadata": {},
     "output_type": "execute_result"
    },
    {
     "data": {
      "image/png": "[encoded data removed]",
      "text/plain": [
       "<Figure size 1600x800 with 1 Axes>"
      ]
     },
     "metadata": {},
     "output_type": "display_data"
    }
   ],
   "source": [
    "# Loan Amount vs Loan Status\n",
    "f = plt.figure(figsize=(16, 8))\n",
    "sb.stripplot(x = 'LoanAmount', y = 'Loan_Status', data = loandata)"
   ]
  },
  {
   "cell_type": "markdown",
   "id": "564a9cfc",
   "metadata": {},
   "source": [
    "### Credit History vs Loan Status\n",
    "\n",
    "There are a total of 263 applicants who have credit history that meet the requirements. Of which, 216 of them have their loan aprroved. That is about 82%. \n",
    "\n",
    "There are a total of 45 applicants who have credit history that DOES NOT meet the requirements and only 3 of them manage to get the loan approved. That is about 7%. \n",
    "\n",
    "This shows that credit history might play an important role in determining whether a loan will be approve."
   ]
  },
  {
   "cell_type": "code",
   "execution_count": 29,
   "id": "a7b2e85b",
   "metadata": {},
   "outputs": [
    {
     "data": {
      "text/plain": [
       "<Axes: xlabel='Credit_History', ylabel='Loan_Status'>"
      ]
     },
     "execution_count": 29,
     "metadata": {},
     "output_type": "execute_result"
    },
    {
     "data": {
      "image/png": "[encoded data removed]",
      "text/plain": [
       "<Figure size 600x400 with 2 Axes>"
      ]
     },
     "metadata": {},
     "output_type": "display_data"
    }
   ],
   "source": [
    "# Credit History vs Loan Status\n",
    "f = plt.figure(figsize=(6, 4))\n",
    "sb.heatmap(loandata.groupby(['Loan_Status', 'Credit_History']).size().unstack(), \n",
    "           linewidths = 1, annot = True, fmt = 'g', annot_kws = {\"size\": 18}, cmap = \"BuGn\")"
   ]
  },
  {
   "cell_type": "markdown",
   "id": "756cce2c",
   "metadata": {},
   "source": [
    "### Marital Status vs Loan Status\n",
    "There are 185 married applicants and 123 single applicants.\n",
    "Out of the 185 married applicants, 140 of them were given the loan. That is about 75%.\n",
    "\n",
    "Out of 123 single applicants, 79 of them were given the loan. That is about 64%."
   ]
  },
  {
   "cell_type": "code",
   "execution_count": 30,
   "id": "90766149",
   "metadata": {},
   "outputs": [
    {
     "data": {
      "text/plain": [
       "<Axes: xlabel='Married', ylabel='Loan_Status'>"
      ]
     },
     "execution_count": 30,
     "metadata": {},
     "output_type": "execute_result"
    },
    {
     "data": {
      "image/png": "[encoded data removed]",
      "text/plain": [
       "<Figure size 600x400 with 2 Axes>"
      ]
     },
     "metadata": {},
     "output_type": "display_data"
    }
   ],
   "source": [
    "# Marital Status vs Loan Status\n",
    "f = plt.figure(figsize=(6, 4))\n",
    "sb.heatmap(loandata.groupby(['Loan_Status', 'Married']).size().unstack(), \n",
    "           linewidths = 1, annot = True, fmt = 'g', annot_kws = {\"size\": 18}, cmap = \"BuGn\")"
   ]
  },
  {
   "cell_type": "markdown",
   "id": "04dde0ed",
   "metadata": {},
   "source": [
    "### No. Of Dependents vs Loan Status"
   ]
  },
  {
   "cell_type": "code",
   "execution_count": 31,
   "id": "53570681",
   "metadata": {},
   "outputs": [
    {
     "data": {
      "text/plain": [
       "<Axes: xlabel='Dependents', ylabel='Loan_Status'>"
      ]
     },
     "execution_count": 31,
     "metadata": {},
     "output_type": "execute_result"
    },
    {
     "data": {
      "image/png": "[encoded data removed]",
      "text/plain": [
       "<Figure size 600x400 with 2 Axes>"
      ]
     },
     "metadata": {},
     "output_type": "display_data"
    }
   ],
   "source": [
    "# No. Of Dependents vs Loan Status\n",
    "f = plt.figure(figsize=(6, 4))\n",
    "sb.heatmap(loandata.groupby(['Loan_Status', 'Dependents']).size().unstack(), \n",
    "           linewidths = 1, annot = True, fmt = 'g', annot_kws = {\"size\": 18}, cmap = \"BuGn\")"
   ]
  },
  {
   "cell_type": "markdown",
   "id": "cc3bb106",
   "metadata": {},
   "source": [
    "### Education level vs Loan Status"
   ]
  },
  {
   "cell_type": "code",
   "execution_count": 32,
   "id": "771eb053",
   "metadata": {},
   "outputs": [
    {
     "data": {
      "text/plain": [
       "<Axes: xlabel='Education', ylabel='Loan_Status'>"
      ]
     },
     "execution_count": 32,
     "metadata": {},
     "output_type": "execute_result"
    },
    {
     "data": {
      "image/png": "[encoded data removed]",
      "text/plain": [
       "<Figure size 600x400 with 2 Axes>"
      ]
     },
     "metadata": {},
     "output_type": "display_data"
    }
   ],
   "source": [
    "# Education level vs Loan Status\n",
    "f = plt.figure(figsize=(6, 4))\n",
    "sb.heatmap(loandata.groupby(['Loan_Status', 'Education']).size().unstack(), \n",
    "           linewidths = 1, annot = True, fmt = 'g', annot_kws = {\"size\": 18}, cmap = \"BuGn\")"
   ]
  },
  {
   "cell_type": "markdown",
   "id": "da01a016",
   "metadata": {},
   "source": [
    "### Property Area vs Loan Status"
   ]
  },
  {
   "cell_type": "code",
   "execution_count": 33,
   "id": "0803c453",
   "metadata": {},
   "outputs": [
    {
     "data": {
      "text/plain": [
       "<Axes: xlabel='Property_Area', ylabel='Loan_Status'>"
      ]
     },
     "execution_count": 33,
     "metadata": {},
     "output_type": "execute_result"
    },
    {
     "data": {
      "image/png": "[encoded data removed]",
      "text/plain": [
       "<Figure size 600x400 with 2 Axes>"
      ]
     },
     "metadata": {},
     "output_type": "display_data"
    }
   ],
   "source": [
    "# Property type vs Loan Status\n",
    "f = plt.figure(figsize=(6, 4))\n",
    "sb.heatmap(loandata.groupby(['Loan_Status', 'Property_Area']).size().unstack(), \n",
    "           linewidths = 1, annot = True, fmt = 'g', annot_kws = {\"size\": 18}, cmap = \"BuGn\")"
   ]
  },
  {
   "cell_type": "markdown",
   "id": "496cd2d3",
   "metadata": {},
   "source": [
    "### Gender vs Loan Status"
   ]
  },
  {
   "cell_type": "code",
   "execution_count": 34,
   "id": "45fcb46a",
   "metadata": {},
   "outputs": [
    {
     "data": {
      "text/plain": [
       "<Axes: xlabel='Gender', ylabel='Loan_Status'>"
      ]
     },
     "execution_count": 34,
     "metadata": {},
     "output_type": "execute_result"
    },
    {
     "data": {
      "image/png": "[encoded data removed]",
      "text/plain": [
       "<Figure size 600x400 with 2 Axes>"
      ]
     },
     "metadata": {},
     "output_type": "display_data"
    }
   ],
   "source": [
    "# Gender vs Loan Status\n",
    "f = plt.figure(figsize=(6, 4))\n",
    "sb.heatmap(loandata.groupby(['Loan_Status', 'Gender']).size().unstack(), \n",
    "           linewidths = 1, annot = True, fmt = 'g', annot_kws = {\"size\": 18}, cmap = \"BuGn\")"
   ]
  },
  {
   "cell_type": "markdown",
   "id": "85b4a55f",
   "metadata": {},
   "source": [
    "# Determining the Most Important Variable\n",
    "We will now start to determine which is the variable that will most likely affect the outcome of the loan status. From the above observations, we have made some assumptions \n",
    "- Total income and loan amount have little to no impact on loan status\n",
    "- Credit history might affect the outcome of loan status \n",
    "\n",
    "We will now proceed to verify these assumptions. \n"
   ]
  },
  {
   "cell_type": "markdown",
   "id": "60c52ff7",
   "metadata": {},
   "source": [
    "## Total Income, Loan Amount vs Loan Status\n",
    "Using Point Biserial Correlation"
   ]
  },
  {
   "cell_type": "code",
   "execution_count": 35,
   "id": "cd9e0746",
   "metadata": {},
   "outputs": [
    {
     "data": {
      "text/html": [
       "<div>\n",
       "<style scoped>\n",
       "    .dataframe tbody tr th:only-of-type {\n",
       "        vertical-align: middle;\n",
       "    }\n",
       "\n",
       "    .dataframe tbody tr th {\n",
       "        vertical-align: top;\n",
       "    }\n",
       "\n",
       "    .dataframe thead th {\n",
       "        text-align: right;\n",
       "    }\n",
       "</style>\n",
       "<table border=\"1\" class=\"dataframe\">\n",
       "  <thead>\n",
       "    <tr style=\"text-align: right;\">\n",
       "      <th></th>\n",
       "      <th>TotalIncome</th>\n",
       "      <th>LoanAmount</th>\n",
       "    </tr>\n",
       "  </thead>\n",
       "  <tbody>\n",
       "    <tr>\n",
       "      <th>count</th>\n",
       "      <td>308.000000</td>\n",
       "      <td>308.000000</td>\n",
       "    </tr>\n",
       "    <tr>\n",
       "      <th>mean</th>\n",
       "      <td>4877.561429</td>\n",
       "      <td>104.623377</td>\n",
       "    </tr>\n",
       "    <tr>\n",
       "      <th>std</th>\n",
       "      <td>2587.872984</td>\n",
       "      <td>29.382256</td>\n",
       "    </tr>\n",
       "    <tr>\n",
       "      <th>min</th>\n",
       "      <td>1442.000000</td>\n",
       "      <td>9.000000</td>\n",
       "    </tr>\n",
       "    <tr>\n",
       "      <th>25%</th>\n",
       "      <td>3663.750000</td>\n",
       "      <td>89.750000</td>\n",
       "    </tr>\n",
       "    <tr>\n",
       "      <th>50%</th>\n",
       "      <td>4583.000000</td>\n",
       "      <td>110.000000</td>\n",
       "    </tr>\n",
       "    <tr>\n",
       "      <th>75%</th>\n",
       "      <td>5566.500000</td>\n",
       "      <td>128.000000</td>\n",
       "    </tr>\n",
       "    <tr>\n",
       "      <th>max</th>\n",
       "      <td>35673.000000</td>\n",
       "      <td>150.000000</td>\n",
       "    </tr>\n",
       "  </tbody>\n",
       "</table>\n",
       "</div>"
      ],
      "text/plain": [
       "        TotalIncome  LoanAmount\n",
       "count    308.000000  308.000000\n",
       "mean    4877.561429  104.623377\n",
       "std     2587.872984   29.382256\n",
       "min     1442.000000    9.000000\n",
       "25%     3663.750000   89.750000\n",
       "50%     4583.000000  110.000000\n",
       "75%     5566.500000  128.000000\n",
       "max    35673.000000  150.000000"
      ]
     },
     "execution_count": 35,
     "metadata": {},
     "output_type": "execute_result"
    }
   ],
   "source": [
    "jointdf = pd.DataFrame(loandata[[\"TotalIncome\",\"LoanAmount\",\"Loan_Status\"]])\n",
    "jointdf.describe()"
   ]
  },
  {
   "cell_type": "code",
   "execution_count": 36,
   "id": "037b360d",
   "metadata": {},
   "outputs": [],
   "source": [
    "jointdf.loc[loandata['Loan_Status'] == 'Y', 'Loan_Status'] = 1\n",
    "jointdf.loc[loandata['Loan_Status'] == 'N', 'Loan_Status'] = 0"
   ]
  },
  {
   "cell_type": "code",
   "execution_count": 37,
   "id": "987aa4c7",
   "metadata": {},
   "outputs": [
    {
     "data": {
      "text/html": [
       "<div>\n",
       "<style scoped>\n",
       "    .dataframe tbody tr th:only-of-type {\n",
       "        vertical-align: middle;\n",
       "    }\n",
       "\n",
       "    .dataframe tbody tr th {\n",
       "        vertical-align: top;\n",
       "    }\n",
       "\n",
       "    .dataframe thead th {\n",
       "        text-align: right;\n",
       "    }\n",
       "</style>\n",
       "<table border=\"1\" class=\"dataframe\">\n",
       "  <thead>\n",
       "    <tr style=\"text-align: right;\">\n",
       "      <th></th>\n",
       "      <th>TotalIncome</th>\n",
       "      <th>LoanAmount</th>\n",
       "      <th>Loan_Status</th>\n",
       "    </tr>\n",
       "  </thead>\n",
       "  <tbody>\n",
       "    <tr>\n",
       "      <th>0</th>\n",
       "      <td>6091.0</td>\n",
       "      <td>128.0</td>\n",
       "      <td>0</td>\n",
       "    </tr>\n",
       "    <tr>\n",
       "      <th>1</th>\n",
       "      <td>3000.0</td>\n",
       "      <td>66.0</td>\n",
       "      <td>1</td>\n",
       "    </tr>\n",
       "    <tr>\n",
       "      <th>2</th>\n",
       "      <td>4941.0</td>\n",
       "      <td>120.0</td>\n",
       "      <td>1</td>\n",
       "    </tr>\n",
       "    <tr>\n",
       "      <th>3</th>\n",
       "      <td>6000.0</td>\n",
       "      <td>141.0</td>\n",
       "      <td>1</td>\n",
       "    </tr>\n",
       "    <tr>\n",
       "      <th>4</th>\n",
       "      <td>3849.0</td>\n",
       "      <td>95.0</td>\n",
       "      <td>1</td>\n",
       "    </tr>\n",
       "  </tbody>\n",
       "</table>\n",
       "</div>"
      ],
      "text/plain": [
       "   TotalIncome  LoanAmount Loan_Status\n",
       "0       6091.0       128.0           0\n",
       "1       3000.0        66.0           1\n",
       "2       4941.0       120.0           1\n",
       "3       6000.0       141.0           1\n",
       "4       3849.0        95.0           1"
      ]
     },
     "execution_count": 37,
     "metadata": {},
     "output_type": "execute_result"
    }
   ],
   "source": [
    "jointdf.head()"
   ]
  },
  {
   "cell_type": "code",
   "execution_count": 38,
   "id": "5e7e6dae",
   "metadata": {},
   "outputs": [
    {
     "name": "stdout",
     "output_type": "stream",
     "text": [
      "<class 'pandas.core.frame.DataFrame'>\n",
      "Index: 308 entries, 0 to 380\n",
      "Data columns (total 3 columns):\n",
      " #   Column       Non-Null Count  Dtype  \n",
      "---  ------       --------------  -----  \n",
      " 0   TotalIncome  308 non-null    float64\n",
      " 1   LoanAmount   308 non-null    float64\n",
      " 2   Loan_Status  308 non-null    object \n",
      "dtypes: float64(2), object(1)\n",
      "memory usage: 17.7+ KB\n"
     ]
    }
   ],
   "source": [
    "jointdf.info()"
   ]
  },
  {
   "cell_type": "code",
   "execution_count": 39,
   "id": "24bafa91",
   "metadata": {},
   "outputs": [],
   "source": [
    "jointdf['Loan_Status'] = jointdf['Loan_Status'].astype(int)"
   ]
  },
  {
   "cell_type": "code",
   "execution_count": 40,
   "id": "edfa6fec",
   "metadata": {},
   "outputs": [
    {
     "name": "stdout",
     "output_type": "stream",
     "text": [
      "<class 'pandas.core.frame.DataFrame'>\n",
      "Index: 308 entries, 0 to 380\n",
      "Data columns (total 3 columns):\n",
      " #   Column       Non-Null Count  Dtype  \n",
      "---  ------       --------------  -----  \n",
      " 0   TotalIncome  308 non-null    float64\n",
      " 1   LoanAmount   308 non-null    float64\n",
      " 2   Loan_Status  308 non-null    int32  \n",
      "dtypes: float64(2), int32(1)\n",
      "memory usage: 16.5 KB\n"
     ]
    }
   ],
   "source": [
    "jointdf.info()"
   ]
  },
  {
   "cell_type": "code",
   "execution_count": 41,
   "id": "26c81cb2",
   "metadata": {
    "scrolled": true
   },
   "outputs": [
    {
     "ename": "NameError",
     "evalue": "name 'correlation_matrix_total_income' is not defined",
     "output_type": "error",
     "traceback": [
      "\u001b[1;31m---------------------------------------------------------------------------\u001b[0m",
      "\u001b[1;31mNameError\u001b[0m                                 Traceback (most recent call last)",
      "Cell \u001b[1;32mIn[41], line 13\u001b[0m\n\u001b[0;32m     10\u001b[0m fig, axes \u001b[38;5;241m=\u001b[39m plt\u001b[38;5;241m.\u001b[39msubplots(\u001b[38;5;241m1\u001b[39m, \u001b[38;5;241m2\u001b[39m, figsize\u001b[38;5;241m=\u001b[39m(\u001b[38;5;241m12\u001b[39m, \u001b[38;5;241m6\u001b[39m))\n\u001b[0;32m     12\u001b[0m \u001b[38;5;66;03m# Heatmap for TotalIncome\u001b[39;00m\n\u001b[1;32m---> 13\u001b[0m sb\u001b[38;5;241m.\u001b[39mheatmap(correlation_matrix_total_income, annot\u001b[38;5;241m=\u001b[39m\u001b[38;5;28;01mTrue\u001b[39;00m, cmap\u001b[38;5;241m=\u001b[39m\u001b[38;5;124m'\u001b[39m\u001b[38;5;124mcoolwarm\u001b[39m\u001b[38;5;124m'\u001b[39m, fmt\u001b[38;5;241m=\u001b[39m\u001b[38;5;124m\"\u001b[39m\u001b[38;5;124m.2f\u001b[39m\u001b[38;5;124m\"\u001b[39m, ax\u001b[38;5;241m=\u001b[39maxes[\u001b[38;5;241m0\u001b[39m])\n\u001b[0;32m     14\u001b[0m axes[\u001b[38;5;241m0\u001b[39m]\u001b[38;5;241m.\u001b[39mset_title(\u001b[38;5;124mf\u001b[39m\u001b[38;5;124m\"\u001b[39m\u001b[38;5;124mPoint-Biserial Correlation (TotalIncome)\u001b[39m\u001b[38;5;130;01m\\n\u001b[39;00m\u001b[38;5;124mCorrelation: \u001b[39m\u001b[38;5;132;01m{\u001b[39;00mcorr_total_income\u001b[38;5;132;01m:\u001b[39;00m\u001b[38;5;124m.2f\u001b[39m\u001b[38;5;132;01m}\u001b[39;00m\u001b[38;5;124m, p-value: \u001b[39m\u001b[38;5;132;01m{\u001b[39;00mp_value_total_income\u001b[38;5;132;01m:\u001b[39;00m\u001b[38;5;124m.4f\u001b[39m\u001b[38;5;132;01m}\u001b[39;00m\u001b[38;5;124m\"\u001b[39m)\n\u001b[0;32m     16\u001b[0m \u001b[38;5;66;03m# Heatmap for LoanAmount\u001b[39;00m\n",
      "\u001b[1;31mNameError\u001b[0m: name 'correlation_matrix_total_income' is not defined"
     ]
    },
    {
     "data": {
      "image/png": "[encoded data removed]",
      "text/plain": [
       "<Figure size 1200x600 with 2 Axes>"
      ]
     },
     "metadata": {},
     "output_type": "display_data"
    }
   ],
   "source": [
    "from scipy.stats import pointbiserialr\n",
    "\n",
    "# Compute point-biserial correlation coefficient and p-value for TotalIncome\n",
    "corr_total_income, p_value_total_income = pointbiserialr(jointdf['TotalIncome'], jointdf['Loan_Status'])\n",
    "\n",
    "# Compute point-biserial correlation coefficient and p-value for LoanAmount\n",
    "corr_loan_amount, p_value_loan_amount = pointbiserialr(jointdf['LoanAmount'], jointdf['Loan_Status'])\n",
    "\n",
    "# Create subplots for side-by-side heatmaps\n",
    "fig, axes = plt.subplots(1, 2, figsize=(12, 6))\n",
    "\n",
    "# Heatmap for TotalIncome\n",
    "sb.heatmap(correlation_matrix_total_income, annot=True, cmap='coolwarm', fmt=\".2f\", ax=axes[0])\n",
    "axes[0].set_title(f\"Point-Biserial Correlation (TotalIncome)\\nCorrelation: {corr_total_income:.2f}, p-value: {p_value_total_income:.4f}\")\n",
    "\n",
    "# Heatmap for LoanAmount\n",
    "sb.heatmap(correlation_matrix_loan_amount, annot=True, cmap='coolwarm', fmt=\".2f\", ax=axes[1])\n",
    "axes[1].set_title(f\"Point-Biserial Correlation (LoanAmount)\\nCorrelation: {corr_loan_amount:.2f}, p-value: {p_value_loan_amount:.4f}\")\n",
    "\n",
    "plt.tight_layout()\n",
    "plt.show()"
   ]
  },
  {
   "cell_type": "code",
   "execution_count": null,
   "id": "bbc7f550",
   "metadata": {
    "scrolled": true
   },
   "outputs": [],
   "source": [
    "from scipy.stats import pointbiserialr\n",
    "\n",
    "# Compute point-biserial correlation coefficient and p-value for TotalIncome\n",
    "corr_total_income, p_value_total_income = pointbiserialr(jointdf['TotalIncome'], jointdf['Loan_Status'])\n",
    "\n",
    "# Compute point-biserial correlation coefficient and p-value for LoanAmount\n",
    "corr_loan_amount, p_value_loan_amount = pointbiserialr(jointdf['LoanAmount'], jointdf['Loan_Status'])\n",
    "\n",
    "# Create subplots for side-by-side heatmaps\n",
    "fig, axes = plt.subplots(1, 2, figsize=(12, 6))\n",
    "\n",
    "# Heatmap for TotalIncome\n",
    "sb.heatmap(correlation_matrix_total_income, annot=True, cmap='coolwarm', fmt=\".2f\", ax=axes[0])\n",
    "axes[0].set_title(f\"Point-Biserial Correlation (TotalIncome)\\nCorrelation: {corr_total_income:.2f}, p-value: {p_value_total_income:.4f}\")\n",
    "\n",
    "# Heatmap for LoanAmount\n",
    "sb.heatmap(correlation_matrix_loan_amount, annot=True, cmap='coolwarm', fmt=\".2f\", ax=axes[1])\n",
    "axes[1].set_title(f\"Point-Biserial Correlation (LoanAmount)\\nCorrelation: {corr_loan_amount:.2f}, p-value: {p_value_loan_amount:.4f}\")\n",
    "\n",
    "plt.tight_layout()\n",
    "plt.show()"
   ]
  },
  {
   "cell_type": "code",
   "execution_count": null,
   "id": "ca986255",
   "metadata": {},
   "outputs": [],
   "source": [
    "print(\"Point-Biserial Correlation Coefficient (Total Income):\", corr_total_income)\n",
    "print(\"P-value:\", p_value_total_income)\n",
    "\n",
    "print(\"Point-Biserial Correlation Coefficient (Loan Amount):\", corr_loan_amount)\n",
    "print(\"P-value:\", p_value_loan_amount)\n",
    "\n"
   ]
  },
  {
   "cell_type": "markdown",
   "id": "da381a5f",
   "metadata": {},
   "source": [
    "As the correlation coefficient for both Total Income and Loan Amount is small. We show that there is little to no relation between Total Income and Loan Amount vs Loan Status."
   ]
  },
  {
   "cell_type": "markdown",
   "id": "c31390c2",
   "metadata": {},
   "source": [
    "### Credit History, Marital Status, No. of Dependents, Education Level, Gender, Property Area vs Loan Status\n",
    "Using Cramer's V\n",
    "- Cramér's V value ranges from 0 to 1, with 0 indicating no association and 1 indicating a strong association between the two categorical variables."
   ]
  },
  {
   "cell_type": "code",
   "execution_count": null,
   "id": "629a5d61",
   "metadata": {},
   "outputs": [],
   "source": [
    "from scipy.stats import chi2_contingency\n",
    "\n",
    "def cramers_v(confusion_matrix):\n",
    "    chi2 = chi2_contingency(confusion_matrix)[0]\n",
    "    n = confusion_matrix.sum().sum()\n",
    "    phi2 = chi2 / n\n",
    "    r, k = confusion_matrix.shape\n",
    "    phi2corr = max(0, phi2 - ((k-1)*(r-1))/(n-1))\n",
    "    rcorr = r - ((r-1)**2)/(n-1)\n",
    "    kcorr = k - ((k-1)**2)/(n-1)\n",
    "    return np.sqrt(phi2corr / min((kcorr-1), (rcorr-1)))"
   ]
  },
  {
   "cell_type": "code",
   "execution_count": null,
   "id": "39ec2af8",
   "metadata": {},
   "outputs": [],
   "source": [
    "jointdf2 = pd.DataFrame(loandata[[\"Credit_History\",\"Married\",\"Dependents\",\"Education\",\"Property_Area\",\"Gender\",\"Loan_Status\"]])\n",
    "jointdf2.describe()"
   ]
  },
  {
   "cell_type": "code",
   "execution_count": null,
   "id": "9b814a78",
   "metadata": {},
   "outputs": [],
   "source": [
    "confusion_matrix_credithistory = pd.crosstab(jointdf2['Loan_Status'], jointdf2['Credit_History'])\n",
    "confusion_matrix_married = pd.crosstab(jointdf2['Loan_Status'], jointdf2['Married'])\n",
    "confusion_matrix_dependents = pd.crosstab(jointdf2['Loan_Status'], jointdf2['Dependents'])\n",
    "confusion_matrix_education = pd.crosstab(jointdf2['Loan_Status'], jointdf2['Education'])\n",
    "confusion_matrix_propertyarea = pd.crosstab(jointdf2['Loan_Status'], jointdf2['Property_Area'])\n",
    "confusion_matrix_gender = pd.crosstab(jointdf2['Loan_Status'], jointdf2['Gender'])\n",
    "\n"
   ]
  },
  {
   "cell_type": "code",
   "execution_count": null,
   "id": "afaf0449",
   "metadata": {},
   "outputs": [],
   "source": [
    "cramers_v_value_credithistory = cramers_v(confusion_matrix_credithistory)\n",
    "print(\"Cramér's V value (Credit History):\", cramers_v_value_credithistory)\n",
    "\n",
    "cramers_v_value_married = cramers_v(confusion_matrix_married)\n",
    "print(\"Cramér's V value (Marital Status):\", cramers_v_value_married)\n",
    "\n",
    "cramers_v_value_dependents = cramers_v(confusion_matrix_dependents)\n",
    "print(\"Cramér's V value (No. Of Dependents):\", cramers_v_value_dependents)\n",
    "\n",
    "cramers_v_value_education = cramers_v(confusion_matrix_education)\n",
    "print(\"Cramér's V value (Education Level):\", cramers_v_value_education)\n",
    "\n",
    "cramers_v_value_propertyarea = cramers_v(confusion_matrix_propertyarea)\n",
    "print(\"Cramér's V value (Property Area):\", cramers_v_value_propertyarea)\n",
    "\n",
    "cramers_v_value_gender = cramers_v(confusion_matrix_gender)\n",
    "print(\"Cramér's V value (Gender):\", cramers_v_value_gender)"
   ]
  },
  {
   "cell_type": "markdown",
   "id": "3b375c72",
   "metadata": {},
   "source": [
    "# Conclusion\n",
    "\n",
    "Based on the Cramér's V value, we can conclude that Credit History plays an important role in determining the loan status of the applicant as it has the highers value of 0.576. "
   ]
  },
  {
   "cell_type": "code",
   "execution_count": null,
   "id": "3002c622",
   "metadata": {},
   "outputs": [],
   "source": []
  }
 ],
 "metadata": {
  "kernelspec": {
   "display_name": "Python 3 (ipykernel)",
   "language": "python",
   "name": "python3"
  },
  "language_info": {
   "codemirror_mode": {
    "name": "ipython",
    "version": 3
   },
   "file_extension": ".py",
   "mimetype": "text/x-python",
   "name": "python",
   "nbconvert_exporter": "python",
   "pygments_lexer": "ipython3",
   "version": "3.11.5"
  }
 },
 "nbformat": 4,
 "nbformat_minor": 5
}
